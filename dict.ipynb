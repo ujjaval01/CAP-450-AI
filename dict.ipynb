{
 "cells": [
  {
   "cell_type": "code",
   "execution_count": 4,
   "metadata": {},
   "outputs": [
    {
     "name": "stdout",
     "output_type": "stream",
     "text": [
      "{1: 'Android', 2: 'App', 3: 'Development'}\n"
     ]
    }
   ],
   "source": [
    "Dist = {1: 'Android', 2: 'App', 3: 'Development'}\n",
    "print(Dist)"
   ]
  },
  {
   "cell_type": "code",
   "execution_count": 13,
   "metadata": {},
   "outputs": [
    {
     "name": "stdout",
     "output_type": "stream",
     "text": [
      "videoPlayer\n",
      "[1, 2, 3, 4]\n",
      "2\n",
      "3\n",
      "[1, 3, 4]\n"
     ]
    }
   ],
   "source": [
    "Dist = {'App': 'videoPlayer', 4: [1,2,3,4]}\n",
    "print(Dist['App'])\n",
    "print(Dist[4])\n",
    "print(Dist[4][1])\n",
    "print(Dist[4][2])\n",
    "del(Dist[4][1])\n",
    "print(Dist[4])\n"
   ]
  }
 ],
 "metadata": {
  "kernelspec": {
   "display_name": "Python 3",
   "language": "python",
   "name": "python3"
  },
  "language_info": {
   "codemirror_mode": {
    "name": "ipython",
    "version": 3
   },
   "file_extension": ".py",
   "mimetype": "text/x-python",
   "name": "python",
   "nbconvert_exporter": "python",
   "pygments_lexer": "ipython3",
   "version": "3.12.1"
  }
 },
 "nbformat": 4,
 "nbformat_minor": 2
}
