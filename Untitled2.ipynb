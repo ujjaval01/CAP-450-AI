{
 "cells": [
  {
   "cell_type": "code",
   "execution_count": 14,
   "id": "b613ea0c-f63f-4f00-8d29-763c88645378",
   "metadata": {},
   "outputs": [
    {
     "name": "stdout",
     "output_type": "stream",
     "text": [
      "   Country  Rank\n",
      "0    India     4\n",
      "1   Russia    10\n",
      "2  Colombo    16\n",
      "3    Chile    21\n",
      "----------------\n",
      "           Rank\n",
      "count   4.00000\n",
      "mean   12.75000\n",
      "std     7.36546\n",
      "min     4.00000\n",
      "25%     8.50000\n",
      "50%    13.00000\n",
      "75%    17.25000\n",
      "max    21.00000\n",
      "----------------\n",
      "Rank    4.0\n",
      "dtype: float64\n",
      "----------------------------------------\n",
      "<class 'pandas.core.frame.DataFrame'>\n",
      "RangeIndex: 4 entries, 0 to 3\n",
      "Data columns (total 2 columns):\n",
      " #   Column   Non-Null Count  Dtype \n",
      "---  ------   --------------  ----- \n",
      " 0   Country  4 non-null      object\n",
      " 1   Rank     4 non-null      int64 \n",
      "dtypes: int64(1), object(1)\n",
      "memory usage: 196.0+ bytes\n",
      "None\n"
     ]
    }
   ],
   "source": [
    "import pandas as pd\n",
    "data = pd.DataFrame({'Country':['India','Russia','Colombo','Chile'],'Rank':[4,10,16,21]})\n",
    "print(data)\n",
    "print(\"----------------\")\n",
    "print(data.describe())\n",
    "print(\"----------------\")\n",
    "print(data.describe().min())\n",
    "print(\"----------------------------------------\")\n",
    "print(data.info())"
   ]
  },
  {
   "cell_type": "code",
   "execution_count": null,
   "id": "857abdd1-c5fe-4029-8fd1-8849909f6b1e",
   "metadata": {},
   "outputs": [],
   "source": []
  }
 ],
 "metadata": {
  "kernelspec": {
   "display_name": "Python 3 (ipykernel)",
   "language": "python",
   "name": "python3"
  },
  "language_info": {
   "codemirror_mode": {
    "name": "ipython",
    "version": 3
   },
   "file_extension": ".py",
   "mimetype": "text/x-python",
   "name": "python",
   "nbconvert_exporter": "python",
   "pygments_lexer": "ipython3",
   "version": "3.12.1"
  }
 },
 "nbformat": 4,
 "nbformat_minor": 5
}
