{
 "cells": [
  {
   "cell_type": "code",
   "execution_count": 4,
   "id": "084bf05d-9f4a-4282-927a-e3bec4755947",
   "metadata": {},
   "outputs": [
    {
     "data": {
      "text/plain": [
       "2"
      ]
     },
     "execution_count": 4,
     "metadata": {},
     "output_type": "execute_result"
    }
   ],
   "source": [
    "fruits = ['mangoes','banana','1','apples','apples']\n",
    "fruits.count('apples')"
   ]
  },
  {
   "cell_type": "code",
   "execution_count": 5,
   "id": "2e303b2f-1af7-40aa-9369-b80f12a3ff62",
   "metadata": {},
   "outputs": [
    {
     "data": {
      "text/plain": [
       "3"
      ]
     },
     "execution_count": 5,
     "metadata": {},
     "output_type": "execute_result"
    }
   ],
   "source": [
    "fruits.index('apples')"
   ]
  },
  {
   "cell_type": "code",
   "execution_count": 6,
   "id": "4fb497bb-2e5f-4614-b40c-d73e9552f8dc",
   "metadata": {},
   "outputs": [
    {
     "data": {
      "text/plain": [
       "['apples', 'apples', '1', 'banana', 'mangoes']"
      ]
     },
     "execution_count": 6,
     "metadata": {},
     "output_type": "execute_result"
    }
   ],
   "source": [
    "fruits.reverse()\n",
    "fruits"
   ]
  },
  {
   "cell_type": "code",
   "execution_count": 17,
   "id": "2f896d47-3b00-47bd-8d8b-dd42d883bdba",
   "metadata": {},
   "outputs": [
    {
     "data": {
      "text/plain": [
       "['1', 'apples', 'apples', 'banana', 'mangoes', 'orange']"
      ]
     },
     "execution_count": 17,
     "metadata": {},
     "output_type": "execute_result"
    }
   ],
   "source": [
    "fruits.append('orange')\n",
    "fruits"
   ]
  },
  {
   "cell_type": "code",
   "execution_count": 14,
   "id": "f4ce32b7-909f-470a-9f7d-1f9f4b160a78",
   "metadata": {},
   "outputs": [
    {
     "data": {
      "text/plain": [
       "['1', 'apples', 'apples', 'banana', 'mangoes', 'orange', 'orange']"
      ]
     },
     "execution_count": 14,
     "metadata": {},
     "output_type": "execute_result"
    }
   ],
   "source": [
    "fruits.sort()\n",
    "fruits"
   ]
  },
  {
   "cell_type": "code",
   "execution_count": 10,
   "id": "3a35dd5d-7475-476f-81d2-2039c81d2f79",
   "metadata": {},
   "outputs": [
    {
     "data": {
      "text/plain": [
       "['1', 'apples', 'apples', 'banana', 'mangoes', 'orange']"
      ]
     },
     "execution_count": 10,
     "metadata": {},
     "output_type": "execute_result"
    }
   ],
   "source": [
    "fruits.pop()\n",
    "'banana'\n",
    "fruits"
   ]
  },
  {
   "cell_type": "code",
   "execution_count": 22,
   "id": "c10f40d1-5132-4075-86fc-710677be6f70",
   "metadata": {},
   "outputs": [
    {
     "data": {
      "text/plain": [
       "['1', 'apples', 'banana', 'mangoes', 'orange']"
      ]
     },
     "execution_count": 22,
     "metadata": {},
     "output_type": "execute_result"
    }
   ],
   "source": [
    "fruits.remove('apples')\n",
    "fruits"
   ]
  },
  {
   "cell_type": "code",
   "execution_count": null,
   "id": "83fd7341-8c9a-4f27-aeba-16ff96c32ea5",
   "metadata": {},
   "outputs": [
    {
     "name": "stdout",
     "output_type": "stream",
     "text": [
      "5\n"
     ]
    }
   ],
   "source": [
    "print(len(fruits))"
   ]
  },
  {
   "cell_type": "code",
   "execution_count": null,
   "id": "ad443d46",
   "metadata": {},
   "outputs": [],
   "source": []
  }
 ],
 "metadata": {
  "kernelspec": {
   "display_name": "Python 3 (ipykernel)",
   "language": "python",
   "name": "python3"
  },
  "language_info": {
   "codemirror_mode": {
    "name": "ipython",
    "version": 3
   },
   "file_extension": ".py",
   "mimetype": "text/x-python",
   "name": "python",
   "nbconvert_exporter": "python",
   "pygments_lexer": "ipython3",
   "version": "3.12.1"
  }
 },
 "nbformat": 4,
 "nbformat_minor": 5
}
