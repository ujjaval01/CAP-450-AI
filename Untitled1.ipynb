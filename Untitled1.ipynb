{
 "cells": [
  {
   "cell_type": "code",
   "execution_count": 1,
   "id": "600e33af-65ae-4c6a-9f82-0ebf866989b3",
   "metadata": {},
   "outputs": [
    {
     "name": "stdout",
     "output_type": "stream",
     "text": [
      "hello\n"
     ]
    }
   ],
   "source": [
    "print(\"hello\")"
   ]
  },
  {
   "cell_type": "code",
   "execution_count": 2,
   "id": "33c310e8-0a00-4a1e-b714-2007715dae36",
   "metadata": {},
   "outputs": [
    {
     "name": "stdout",
     "output_type": "stream",
     "text": [
      "HELLO\n"
     ]
    }
   ],
   "source": [
    "print(\"hello\".upper())"
   ]
  },
  {
   "cell_type": "code",
   "execution_count": 8,
   "id": "61201d87-614a-4291-bf57-c5c1d84c6da2",
   "metadata": {},
   "outputs": [
    {
     "name": "stdout",
     "output_type": "stream",
     "text": [
      "hello\n"
     ]
    }
   ],
   "source": [
    "a = \"heLLo\"\n",
    "print(a.lower())"
   ]
  },
  {
   "cell_type": "code",
   "execution_count": 9,
   "id": "f0b72589-7ab2-4140-97d7-f1342722db9e",
   "metadata": {},
   "outputs": [
    {
     "name": "stdout",
     "output_type": "stream",
     "text": [
      "14\n"
     ]
    }
   ],
   "source": [
    "a = \"iamamcastudent\"\n",
    "print(len(a))"
   ]
  },
  {
   "cell_type": "code",
   "execution_count": 11,
   "id": "726c19e5-b687-4551-93a1-dc822401d7a8",
   "metadata": {},
   "outputs": [
    {
     "name": "stdout",
     "output_type": "stream",
     "text": [
      "4\n"
     ]
    }
   ],
   "source": [
    "student = ['ujvl','ashish','aditya','aman']\n",
    "print(len(student))"
   ]
  },
  {
   "cell_type": "code",
   "execution_count": 14,
   "id": "fd95c819-6a34-4ccb-84c6-7fa77f6b79c6",
   "metadata": {},
   "outputs": [
    {
     "name": "stdout",
     "output_type": "stream",
     "text": [
      "[22, 90, 'ujjaval']\n"
     ]
    }
   ],
   "source": [
    "num = []\n",
    "num.append(22)\n",
    "num.append(90)\n",
    "num.append(\"ujjaval\")\n",
    "print(num)"
   ]
  },
  {
   "cell_type": "code",
   "execution_count": 13,
   "id": "73a4fb57-b42b-489e-9591-6cd1047048dc",
   "metadata": {},
   "outputs": [
    {
     "name": "stdin",
     "output_type": "stream",
     "text": [
      "Enter your name:  ujjaval\n"
     ]
    },
    {
     "name": "stdout",
     "output_type": "stream",
     "text": [
      "hello ujjaval\n"
     ]
    }
   ],
   "source": [
    "a = input(\"Enter your name: \")\n",
    "print(\"hello\", a)"
   ]
  },
  {
   "cell_type": "code",
   "execution_count": 20,
   "id": "231ae0bc-ddcd-4417-9735-81baf19fabdd",
   "metadata": {},
   "outputs": [
    {
     "name": "stdin",
     "output_type": "stream",
     "text": [
      "Enter your hindi marks:  55\n",
      "Enter your english marks:  55\n",
      "Enter your maths marks:  55\n"
     ]
    },
    {
     "name": "stdout",
     "output_type": "stream",
     "text": [
      "165\n"
     ]
    }
   ],
   "source": [
    "a = int(input(\"Enter your hindi marks: \"))\n",
    "b = int(input(\"Enter your english marks: \"))\n",
    "c = int(input(\"Enter your maths marks: \"))\n",
    "print(a+b+c)\n"
   ]
  },
  {
   "cell_type": "code",
   "execution_count": 22,
   "id": "b6e0eb08-6d92-490f-8ec3-c520b1514393",
   "metadata": {},
   "outputs": [
    {
     "name": "stdout",
     "output_type": "stream",
     "text": [
      "True\n"
     ]
    }
   ],
   "source": [
    "print(7>2)"
   ]
  },
  {
   "cell_type": "code",
   "execution_count": 36,
   "id": "714f5518-3d87-45e5-9ed5-8efe2235adb5",
   "metadata": {
    "scrolled": true
   },
   "outputs": [
    {
     "name": "stdin",
     "output_type": "stream",
     "text": [
      "Enter number 55\n"
     ]
    },
    {
     "name": "stdout",
     "output_type": "stream",
     "text": [
      "num is odd\n"
     ]
    }
   ],
   "source": [
    "a = int(input(\"Enter number\"))\n",
    "if a%2 == 0:\n",
    "    print(\"number is even\")\n",
    "else:\n",
    "  print(\"num is odd\")\n"
   ]
  },
  {
   "cell_type": "code",
   "execution_count": 42,
   "id": "9ad5d348-fec2-446b-8ff5-9e721e9a48b4",
   "metadata": {},
   "outputs": [
    {
     "name": "stdout",
     "output_type": "stream",
     "text": [
      "helo\n"
     ]
    }
   ],
   "source": [
    "def fun():\n",
    "    print(\"helo\")\n",
    "fun()"
   ]
  },
  {
   "cell_type": "code",
   "execution_count": null,
   "id": "2505e99f-76c7-4386-8395-ae2ab8fef302",
   "metadata": {},
   "outputs": [],
   "source": []
  }
 ],
 "metadata": {
  "kernelspec": {
   "display_name": "Python 3 (ipykernel)",
   "language": "python",
   "name": "python3"
  },
  "language_info": {
   "codemirror_mode": {
    "name": "ipython",
    "version": 3
   },
   "file_extension": ".py",
   "mimetype": "text/x-python",
   "name": "python",
   "nbconvert_exporter": "python",
   "pygments_lexer": "ipython3",
   "version": "3.12.1"
  }
 },
 "nbformat": 4,
 "nbformat_minor": 5
}
