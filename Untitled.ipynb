{
 "cells": [
  {
   "cell_type": "code",
   "execution_count": 1,
   "id": "f56fd106-149d-4687-9276-4fd81b160cc7",
   "metadata": {},
   "outputs": [
    {
     "name": "stdout",
     "output_type": "stream",
     "text": [
      "hello\n"
     ]
    }
   ],
   "source": [
    "print(\"hello\")"
   ]
  },
  {
   "cell_type": "code",
   "execution_count": 2,
   "id": "aa1042c0-13dc-4730-a44e-ad5fcaefcef0",
   "metadata": {},
   "outputs": [
    {
     "name": "stdout",
     "output_type": "stream",
     "text": [
      "five is greater then 2\n"
     ]
    }
   ],
   "source": [
    "if 5>2:\n",
    "    print(\"five is greater then 2\")"
   ]
  },
  {
   "cell_type": "code",
   "execution_count": 3,
   "id": "773babae-ae91-4b23-b773-c3a2fc2f8f87",
   "metadata": {},
   "outputs": [
    {
     "name": "stdout",
     "output_type": "stream",
     "text": [
      "five is lesser then three\n"
     ]
    }
   ],
   "source": [
    "if 5<3:\n",
    "    print(\"five is greater then 3\")\n",
    "else:\n",
    "    print(\"five is lesser then three\")"
   ]
  },
  {
   "cell_type": "code",
   "execution_count": 7,
   "id": "09c5b1e9-d3ce-4e87-887c-6310dadc3895",
   "metadata": {},
   "outputs": [
    {
     "name": "stdout",
     "output_type": "stream",
     "text": [
      "3 hello\n"
     ]
    }
   ],
   "source": [
    "a = 3\n",
    "b = \"hello\"\n",
    "print(a,b)"
   ]
  },
  {
   "cell_type": "code",
   "execution_count": 9,
   "id": "33114431-44c3-4d16-b14d-9694480a10b3",
   "metadata": {},
   "outputs": [
    {
     "name": "stdout",
     "output_type": "stream",
     "text": [
      "3.0\n"
     ]
    }
   ],
   "source": [
    "x = float(3)\n",
    "print(x)"
   ]
  },
  {
   "cell_type": "code",
   "execution_count": 10,
   "id": "60048ddf-4e48-4599-9a93-aaffe7fb5732",
   "metadata": {},
   "outputs": [
    {
     "name": "stdout",
     "output_type": "stream",
     "text": [
      "<class 'int'>\n",
      "<class 'str'>\n"
     ]
    }
   ],
   "source": [
    "x = 3\n",
    "y = \"ujvl\"\n",
    "print(type(x))\n",
    "print(type(y))"
   ]
  },
  {
   "cell_type": "code",
   "execution_count": 14,
   "id": "9105b862-4f30-4732-9ca8-1587b687aca3",
   "metadata": {},
   "outputs": [
    {
     "name": "stdout",
     "output_type": "stream",
     "text": [
      "ujjaval irfan mohmad\n"
     ]
    }
   ],
   "source": [
    "name = ['ujjaval', 'irfan','mohmad']\n",
    "x,y,z = name\n",
    "print(x,y,z)"
   ]
  },
  {
   "cell_type": "code",
   "execution_count": 20,
   "id": "6d7c77ca-ca5b-458a-b618-842121b5c563",
   "metadata": {},
   "outputs": [
    {
     "name": "stdout",
     "output_type": "stream",
     "text": [
      "Python is awesome\n"
     ]
    }
   ],
   "source": [
    "x = \"awesome\"\n",
    "\n",
    "def myfunc():\n",
    "  print(\"Python is \" + x)\n",
    "\n",
    "myfunc()"
   ]
  },
  {
   "cell_type": "code",
   "execution_count": 24,
   "id": "4bee42fe-adec-44fa-94a7-11c574bf14ed",
   "metadata": {},
   "outputs": [
    {
     "name": "stdout",
     "output_type": "stream",
     "text": [
      "i am ujjaval\n",
      "and my caste is saini\n"
     ]
    }
   ],
   "source": [
    "x = \"saini\"\n",
    "def fun():\n",
    "    y = \"ujjaval\" \n",
    "    print(\"i am \"+ y)\n",
    "fun()\n",
    "print(\"and my caste is \"+ x)"
   ]
  },
  {
   "cell_type": "code",
   "execution_count": 27,
   "id": "b09d53ea-d022-4f31-b0a2-700d99fa885c",
   "metadata": {},
   "outputs": [
    {
     "ename": "IndentationError",
     "evalue": "unexpected indent (2879302175.py, line 4)",
     "output_type": "error",
     "traceback": [
      "\u001b[1;36m  Cell \u001b[1;32mIn[27], line 4\u001b[1;36m\u001b[0m\n\u001b[1;33m    x = \"ujjaval\"\u001b[0m\n\u001b[1;37m    ^\u001b[0m\n\u001b[1;31mIndentationError\u001b[0m\u001b[1;31m:\u001b[0m unexpected indent\n"
     ]
    }
   ],
   "source": [
    "x = \"saini\"\n",
    "def fun():\n",
    "   global x \n",
    "    x = \"ujjaval\" \n",
    "fun()\n",
    "print(\"and my caste is \" + x )"
   ]
  },
  {
   "cell_type": "code",
   "execution_count": 28,
   "id": "54812052-1d3c-4897-a3e2-9615113fbf9a",
   "metadata": {},
   "outputs": [
    {
     "name": "stdout",
     "output_type": "stream",
     "text": [
      "Python is fantastic\n"
     ]
    }
   ],
   "source": [
    "x = \"awesome\"\n",
    "\n",
    "def myfunc():\n",
    "  global x\n",
    "  x = \"fantastic\"\n",
    "\n",
    "myfunc()\n",
    "\n",
    "print(\"Python is \" + x)"
   ]
  },
  {
   "cell_type": "code",
   "execution_count": 30,
   "id": "d6d9550e-0782-4873-a618-258442714a96",
   "metadata": {},
   "outputs": [
    {
     "ename": "IndentationError",
     "evalue": "unexpected indent (2009920330.py, line 4)",
     "output_type": "error",
     "traceback": [
      "\u001b[1;36m  Cell \u001b[1;32mIn[30], line 4\u001b[1;36m\u001b[0m\n\u001b[1;33m    a = \"ant\"\u001b[0m\n\u001b[1;37m    ^\u001b[0m\n\u001b[1;31mIndentationError\u001b[0m\u001b[1;31m:\u001b[0m unexpected indent\n"
     ]
    }
   ],
   "source": [
    "a = \"apple\"\n",
    "def fun():\n",
    "    global a\n",
    "     a = \"ant\"\n",
    "fun()\n",
    "print(a)"
   ]
  },
  {
   "cell_type": "code",
   "execution_count": null,
   "id": "4877727a-683d-44f7-9c30-e500d9356a19",
   "metadata": {},
   "outputs": [],
   "source": []
  }
 ],
 "metadata": {
  "kernelspec": {
   "display_name": "Python 3 (ipykernel)",
   "language": "python",
   "name": "python3"
  },
  "language_info": {
   "codemirror_mode": {
    "name": "ipython",
    "version": 3
   },
   "file_extension": ".py",
   "mimetype": "text/x-python",
   "name": "python",
   "nbconvert_exporter": "python",
   "pygments_lexer": "ipython3",
   "version": "3.12.1"
  }
 },
 "nbformat": 4,
 "nbformat_minor": 5
}
