{
 "cells": [
  {
   "cell_type": "code",
   "execution_count": 22,
   "id": "b613ea0c-f63f-4f00-8d29-763c88645378",
   "metadata": {},
   "outputs": [
    {
     "name": "stdout",
     "output_type": "stream",
     "text": [
      "   Country  Rank\n",
      "0    India     4\n",
      "1   Russia    10\n",
      "2  Colombo    16\n",
      "3    Chile    21\n",
      "----------------\n",
      "           Rank\n",
      "count   4.00000\n",
      "mean   12.75000\n",
      "std     7.36546\n",
      "min     4.00000\n",
      "25%     8.50000\n",
      "50%    13.00000\n",
      "75%    17.25000\n",
      "max    21.00000\n",
      "----------------\n",
      "Rank    4.0\n",
      "dtype: float64\n",
      "----------------------------------------\n",
      "<class 'pandas.core.frame.DataFrame'>\n",
      "RangeIndex: 4 entries, 0 to 3\n",
      "Data columns (total 2 columns):\n",
      " #   Column   Non-Null Count  Dtype \n",
      "---  ------   --------------  ----- \n",
      " 0   Country  4 non-null      object\n",
      " 1   Rank     4 non-null      int64 \n",
      "dtypes: int64(1), object(1)\n",
      "memory usage: 196.0+ bytes\n",
      "None\n"
     ]
    }
   ],
   "source": [
    "data = pd.DataFrame({'Country':['India','Russia','Colombo','Chile'],'Rank':[4,10,16,21]})\n",
    "print(data)\n",
    "print(\"----------------\")\n",
    "print(data.describe())\n",
    "print(\"----------------\")\n",
    "print(data.describe().min())\n",
    "print(\"----------------------------------------\")\n",
    "print(data.info())"
   ]
  },
  {
   "cell_type": "code",
   "execution_count": 20,
   "id": "857abdd1-c5fe-4029-8fd1-8849909f6b1e",
   "metadata": {},
   "outputs": [
    {
     "name": "stdout",
     "output_type": "stream",
     "text": [
      "Original Data\n",
      "  group  ounces\n",
      "0     a       4\n",
      "1     a       3\n",
      "2     a      12\n",
      "3     b       6\n",
      "4     b       7\n",
      "5     b       8\n",
      "6     c       3\n",
      "7     c       5\n",
      "8     c       6\n",
      "-----------------------\n",
      "asc True and inplace False\n",
      "  group  ounces\n",
      "1     a       3\n",
      "6     c       3\n",
      "0     a       4\n",
      "7     c       5\n",
      "3     b       6\n",
      "8     c       6\n",
      "4     b       7\n",
      "5     b       8\n",
      "2     a      12\n",
      "-----------------------\n",
      "asc False and inplace False\n",
      "  group  ounces\n",
      "2     a      12\n",
      "5     b       8\n",
      "4     b       7\n",
      "3     b       6\n",
      "8     c       6\n",
      "7     c       5\n",
      "0     a       4\n",
      "1     a       3\n",
      "6     c       3\n"
     ]
    }
   ],
   "source": [
    "data = pd.DataFrame({'group':['a','a','a','b','b','b','c','c','c'],'ounces':[4,3,12,6,7,8,3,5,6]})\n",
    "#data = pd.DataFrame({'Group':['In,'Russia','Colombo','Chile'],'Rank':[4,10,16,21]})\n",
    "print('Original Data')\n",
    "print(data)\n",
    "print(\"-----------------------\")\n",
    "print('asc True and inplace False')\n",
    "print(data.sort_values(by = ['ounces'],ascending = True, inplace = False))\n",
    "print(\"-----------------------\")\n",
    "print('asc False and inplace False')\n",
    "print(data.sort_values(by = ['ounces'],ascending = False, inplace = False))"
   ]
  },
  {
   "cell_type": "code",
   "execution_count": 27,
   "id": "9717f9e9-0e4b-4287-b649-5e812ab60acb",
   "metadata": {},
   "outputs": [
    {
     "name": "stdout",
     "output_type": "stream",
     "text": [
      "    k1  k2\n",
      "0  one   3\n",
      "1  one   2\n",
      "2  one   1\n",
      "3  two   3\n",
      "4  two   3\n",
      "5  two   4\n",
      "6  two   4\n",
      "------------------\n",
      "    k1  k2\n",
      "2  one   1\n",
      "1  one   2\n",
      "0  one   3\n",
      "3  two   3\n",
      "4  two   3\n",
      "5  two   4\n",
      "6  two   4\n",
      "-----------------------\n",
      "Remove Duplicates..\n",
      "    k1  k2\n",
      "0  one   3\n",
      "1  one   2\n",
      "2  one   1\n",
      "3  two   3\n",
      "5  two   4\n",
      "Remove Duplicates Matching Row Values..\n",
      "    k1  k2\n",
      "0  one   3\n",
      "3  two   3\n"
     ]
    }
   ],
   "source": [
    "data = pd.DataFrame({'k1':['one']*3 + ['two']*4, 'k2':[3,2,1,3,3,4,4]})\n",
    "print(data)\n",
    "print(\"------------------\")\n",
    "print(data.sort_values(by='k2'))\n",
    "print(\"-----------------------\")\n",
    "print('Remove Duplicates..')\n",
    "print(data.drop_duplicates())\n",
    "print('Remove Duplicates Matching Row Values..')\n",
    "print(data.drop_duplicates(subset = 'k1'))\n"
   ]
  },
  {
   "cell_type": "code",
   "execution_count": null,
   "id": "de06ac90-41a8-47f8-9d6b-2f9f95a55b0a",
   "metadata": {},
   "outputs": [],
   "source": []
  },
  {
   "cell_type": "code",
   "execution_count": null,
   "id": "6f6e2fab-a738-427e-96c8-0010b839c315",
   "metadata": {},
   "outputs": [],
   "source": []
  }
 ],
 "metadata": {
  "kernelspec": {
   "display_name": "Python 3 (ipykernel)",
   "language": "python",
   "name": "python3"
  },
  "language_info": {
   "codemirror_mode": {
    "name": "ipython",
    "version": 3
   },
   "file_extension": ".py",
   "mimetype": "text/x-python",
   "name": "python",
   "nbconvert_exporter": "python",
   "pygments_lexer": "ipython3",
   "version": "3.12.1"
  }
 },
 "nbformat": 4,
 "nbformat_minor": 5
}
