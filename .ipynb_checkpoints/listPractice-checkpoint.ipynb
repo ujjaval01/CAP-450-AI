{
 "cells": [
  {
   "cell_type": "code",
   "execution_count": 6,
   "id": "001a2bca-0480-4887-bdcb-ca7f23d34e4b",
   "metadata": {},
   "outputs": [
    {
     "name": "stdout",
     "output_type": "stream",
     "text": [
      "enter the number of books : 2\n",
      "Enter book name:  ujj\n",
      "Enter author name:  saini\n",
      "Enter Price:  200\n",
      "Enter book name:  mai patla kaise hou\n",
      "Enter author name:  aman\n",
      "Enter Price:  150\n"
     ]
    },
    {
     "name": "stdout",
     "output_type": "stream",
     "text": [
      "[{'Title': 'ujj', 'Author': 'saini', 'Price': 200}, {'Title': 'mai patla kaise hou', 'Author': 'aman', 'Price': 150}]\n"
     ]
    }
   ],
   "source": [
    "n = int(input(\"enter the number of books :\"))\n",
    "booklist = []\n",
    "for i in range(n):\n",
    "    bookname = input(\"Enter book name: \")\n",
    "    authorname = input(\"Enter author name: \")\n",
    "    price = int(input(\"Enter Price: \"))\n",
    "    booklist.append(\n",
    "    {\n",
    "        'Title':bookname,\n",
    "        'Author':authorname,\n",
    "        'Price':price\n",
    "    }\n",
    "\n",
    ")\n",
    "print(booklist)"
   ]
  },
  {
   "cell_type": "code",
   "execution_count": 4,
   "id": "eb3b66c1-4fce-4142-bc2e-6cbe901e19aa",
   "metadata": {},
   "outputs": [
    {
     "name": "stdout",
     "output_type": "stream",
     "text": [
      "Enter book name:  englishh\n",
      "Enter author name:  mai\n",
      "Enter Price:  150\n"
     ]
    },
    {
     "name": "stdout",
     "output_type": "stream",
     "text": [
      "[{'Title': 'englishh', 'Author': 'mai', 'Price': 150}]\n"
     ]
    }
   ],
   "source": [
    "booklist=[]\n",
    "bookname = input(\"Enter book name: \")\n",
    "authorname = input(\"Enter author name: \")\n",
    "price = int(input(\"Enter Price: \"))\n",
    "booklist.append(\n",
    "    {\n",
    "        'Title':bookname,\n",
    "        'Author':authorname,\n",
    "        'Price':price\n",
    "    }\n",
    "\n",
    ")\n",
    "print(booklist)\n"
   ]
  },
  {
   "cell_type": "code",
   "execution_count": 12,
   "id": "6af2e6cb-76bd-467c-bd88-bf36c2a89b00",
   "metadata": {},
   "outputs": [
    {
     "name": "stdout",
     "output_type": "stream",
     "text": [
      "Enter the number of books:  1\n",
      "Enter book name 1:  uj\n",
      "Enter author name 1:  vk\n",
      "Enter price 1:  55\n"
     ]
    },
    {
     "name": "stdout",
     "output_type": "stream",
     "text": [
      "+---------+----------+---------+\n",
      "| Title   | Author   |   Price |\n",
      "+=========+==========+=========+\n",
      "| uj      | vk       |      55 |\n",
      "+---------+----------+---------+\n"
     ]
    }
   ],
   "source": [
    "\n",
    "from tabulate import tabulate\n",
    "\n",
    "n = int(input(\"Enter the number of books: \"))\n",
    "booklist = []\n",
    "\n",
    "for i in range(n):\n",
    "    bookname = input(f\"Enter book name {i+1}: \")\n",
    "    authorname = input(f\"Enter author name {i+1}: \")\n",
    "    price = int(input(f\"Enter price {i+1}: \"))\n",
    "    booklist.append(\n",
    "        {\n",
    "            'Title': bookname,\n",
    "            'Author': authorname,\n",
    "            'Price': price\n",
    "        }\n",
    "    )\n",
    "\n",
    "table_data = [[book['Title'], book['Author'], book['Price']] for book in booklist]\n",
    "headers = [\"Title\", \"Author\", \"Price\"]\n",
    "print(tabulate(table_data, headers, tablefmt=\"grid\"))\n"
   ]
  },
  {
   "cell_type": "code",
   "execution_count": null,
   "id": "9a3591d4-0046-48ac-a01a-f6d05b093f24",
   "metadata": {},
   "outputs": [
    {
     "name": "stdout",
     "output_type": "stream",
     "text": [
      "Enter limit 3\n",
      "Enter Book Title java\n",
      "Enter Author Name ujvl\n",
      "Enter Price of the Book 799\n"
     ]
    },
    {
     "name": "stdout",
     "output_type": "stream",
     "text": [
      "Booktitle           BookAuthor          BookPrice           \n",
      "java                 ujvl                 799                 \n"
     ]
    },
    {
     "name": "stdout",
     "output_type": "stream",
     "text": [
      "Enter Book Title python\n",
      "Enter Author Name aman\n",
      "Enter Price of the Book 399\n"
     ]
    },
    {
     "name": "stdout",
     "output_type": "stream",
     "text": [
      "Booktitle           BookAuthor          BookPrice           \n",
      "java                 ujvl                 799                 \n",
      "python               aman                 399                 \n"
     ]
    },
    {
     "name": "stdout",
     "output_type": "stream",
     "text": [
      "Enter Book Title aadi\n",
      "Enter Author Name kumar\n",
      "Enter Price of the Book 150\n"
     ]
    },
    {
     "name": "stdout",
     "output_type": "stream",
     "text": [
      "Booktitle           BookAuthor          BookPrice           \n",
      "java                 ujvl                 799                 \n",
      "python               aman                 399                 \n",
      "aadi                 kumar                150                 \n"
     ]
    }
   ],
   "source": [
    "booklist=[]\n",
    "record=int(input(\"Enter limit\"))\n",
    "for i in range(record):\n",
    "    bookname=input(\"Enter Book Title\")\n",
    "    bookauthor=input(\"Enter Author Name\")\n",
    "    bookprice=int(input(\"Enter Price of the Book\"))\n",
    "    booklist.append(\n",
    "    {\n",
    "        'BookTitle':bookname,\n",
    "        'BookAuthor':bookauthor,\n",
    "        'BookPrice':bookprice,\n",
    "    }\n",
    ")\n",
    "totalprice += bookprice\n",
    "    header=f\"{'Booktitle':<20}{'BookAuthor':<20}{'BookPrice':<20}\"\n",
    "    print(header)\n",
    "    for data in booklist:\n",
    "        row = f\"{data['BookTitle']:<20} {data['BookAuthor']:<20} {data['BookPrice']:<20}\"\n",
    "        print(row)\n",
    "print(totalprice)\n",
    "        "
   ]
  },
  {
   "cell_type": "code",
   "execution_count": 1,
   "id": "ca72ce24-7f74-4227-acf3-86abec1cd924",
   "metadata": {},
   "outputs": [
    {
     "name": "stdout",
     "output_type": "stream",
     "text": [
      "Olympic Data Analysis\n"
     ]
    },
    {
     "name": "stdin",
     "output_type": "stream",
     "text": [
      "Enter Country Name:  Italy\n"
     ]
    },
    {
     "name": "stdout",
     "output_type": "stream",
     "text": [
      "1. Add Data\n",
      "2. View Data\n",
      "3. View Medal Count by Country\n",
      "4. View Athlete Performance\n",
      "5. View Event Details\n",
      "6. View Statistics\n",
      "7. Exit\n"
     ]
    },
    {
     "name": "stdin",
     "output_type": "stream",
     "text": [
      "Enter your choice:  1\n"
     ]
    },
    {
     "name": "stdout",
     "output_type": "stream",
     "text": [
      "Enter the only Italyan Country data:\n"
     ]
    },
    {
     "name": "stdin",
     "output_type": "stream",
     "text": [
      "Enter limit how many athletes' data you want to add:  7\n",
      "Enter the 1 athlete's name:  Nicolo Martinenghi\n",
      "Enter 1 event name:  Swimming\n",
      "Enter the event year:  2024\n",
      "Enter how many Bronze medals he/she won:  0\n",
      "Enter how many Silver medals he/she won:  0\n",
      "Enter how many Gold medals he/she won:  2\n",
      "Enter the 2 athlete's name:  Gregorio Paltrinier\n",
      "Enter 2 event name:  Swimming\n",
      "Enter the event year:  2024\n",
      "Enter how many Bronze medals he/she won:  0\n",
      "Enter how many Silver medals he/she won:  0\n",
      "Enter how many Gold medals he/she won:  1\n",
      "Enter the 3 athlete's name:  Thomas Ceccon\n",
      "Enter 3 event name:  Swimming\n",
      "Enter the event year:  2020\n",
      "Enter how many Bronze medals he/she won:  0\n",
      "Enter how many Silver medals he/she won:  1\n",
      "Enter how many Gold medals he/she won:  0\n",
      "Enter the 4 athlete's name:  Gregorio Paltrinier\n",
      "Enter 4 event name:  Swimming\n",
      "Enter the event year:  2020\n",
      "Enter how many Bronze medals he/she won:  0\n",
      "Enter how many Silver medals he/she won:  1\n",
      "Enter how many Gold medals he/she won:  0\n",
      "Enter the 5 athlete's name:  Rachele Bruni\n",
      "Enter 5 event name:  Swimming\n",
      "Enter the event year:  2016\n",
      "Enter how many Bronze medals he/she won:  0\n",
      "Enter how many Silver medals he/she won:  1\n",
      "Enter how many Gold medals he/she won:  0\n",
      "Enter the 6 athlete's name:  Martina Grimaldi\n",
      "Enter 6 event name:  Swimming\n",
      "Enter the event year:  2012\n",
      "Enter how many Bronze medals he/she won:  1\n",
      "Enter how many Silver medals he/she won:  0\n",
      "Enter how many Gold medals he/she won:  0\n",
      "Enter the 7 athlete's name:  Federica Pellegrini\n",
      "Enter 7 event name:  Swimming\n",
      "Enter the event year:  2008\n",
      "Enter how many Bronze medals he/she won:  0\n",
      "Enter how many Silver medals he/she won:  0\n",
      "Enter how many Gold medals he/she won:  1\n"
     ]
    },
    {
     "name": "stdout",
     "output_type": "stream",
     "text": [
      "1. Add Data\n",
      "2. View Data\n",
      "3. View Medal Count by Country\n",
      "4. View Athlete Performance\n",
      "5. View Event Details\n",
      "6. View Statistics\n",
      "7. Exit\n"
     ]
    },
    {
     "name": "stdin",
     "output_type": "stream",
     "text": [
      "Enter your choice:  2\n"
     ]
    },
    {
     "name": "stdout",
     "output_type": "stream",
     "text": [
      "Name                EventName           EventYear           BronzeMedal         SilverMedal         GoldMedal           \n",
      "Nicolo Martinenghi  Swimming            2024                0                   0                   2                   \n",
      "Gregorio Paltrinier Swimming            2024                0                   0                   1                   \n",
      "Thomas Ceccon       Swimming            2020                0                   1                   0                   \n",
      "Gregorio Paltrinier Swimming            2020                0                   1                   0                   \n",
      "Rachele Bruni       Swimming            2016                0                   1                   0                   \n",
      "Martina Grimaldi    Swimming            2012                1                   0                   0                   \n",
      "Federica Pellegrini Swimming            2008                0                   0                   1                   \n",
      "1. Add Data\n",
      "2. View Data\n",
      "3. View Medal Count by Country\n",
      "4. View Athlete Performance\n",
      "5. View Event Details\n",
      "6. View Statistics\n",
      "7. Exit\n"
     ]
    },
    {
     "name": "stdin",
     "output_type": "stream",
     "text": [
      "Enter your choice:  3\n"
     ]
    },
    {
     "name": "stdout",
     "output_type": "stream",
     "text": [
      "\n",
      "Total Medals for Italy:\n",
      "Bronze Medals: 1\n",
      "Silver Medals: 3\n",
      "Gold Medals: 4\n",
      "Total Medals: 8\n",
      "\n",
      "1. Add Data\n",
      "2. View Data\n",
      "3. View Medal Count by Country\n",
      "4. View Athlete Performance\n",
      "5. View Event Details\n",
      "6. View Statistics\n",
      "7. Exit\n"
     ]
    },
    {
     "name": "stdin",
     "output_type": "stream",
     "text": [
      "Enter your choice:  4\n",
      "Enter the Athlete name:  Nicolo Martinenghi\n"
     ]
    },
    {
     "name": "stdout",
     "output_type": "stream",
     "text": [
      "\n",
      "Performance Statistics for Nicolo Martinenghi:\n",
      "Event: Swimming\n",
      "Year: 2024\n",
      "Bronze Medals: 0\n",
      "Silver Medals: 0\n",
      "Gold Medals: 2\n",
      "\n",
      "Total medal by Nicolo Martinenghi 2\n",
      "1. Add Data\n",
      "2. View Data\n",
      "3. View Medal Count by Country\n",
      "4. View Athlete Performance\n",
      "5. View Event Details\n",
      "6. View Statistics\n",
      "7. Exit\n"
     ]
    },
    {
     "name": "stdin",
     "output_type": "stream",
     "text": [
      "Enter your choice:  5\n",
      "Enter the Event name:  swimming\n",
      "Enter the Event year:  2020\n"
     ]
    },
    {
     "name": "stdout",
     "output_type": "stream",
     "text": [
      "\n",
      "Details for Event: swimming (2020)\n",
      "Athlete Name        BronzeMedals   SilverMedals   GoldMedals     \n",
      "Thomas Ceccon       0              1              0              \n",
      "Gregorio Paltrinier 0              1              0              \n",
      "1. Add Data\n",
      "2. View Data\n",
      "3. View Medal Count by Country\n",
      "4. View Athlete Performance\n",
      "5. View Event Details\n",
      "6. View Statistics\n",
      "7. Exit\n"
     ]
    },
    {
     "name": "stdin",
     "output_type": "stream",
     "text": [
      "Enter your choice:  6\n"
     ]
    },
    {
     "name": "stdout",
     "output_type": "stream",
     "text": [
      "\n",
      "Olympic Statistics:\n",
      "Total Athletes: 7\n",
      "Average Bronze Medals per Athlete: 0.00\n",
      "Average Silver Medals per Athlete: 0.00\n",
      "Average Gold Medals per Athlete: 0.29\n",
      "Average Total Medals per Athlete: 0.29\n",
      "\n",
      "Average Bronze Medals per Athlete: 0.00\n",
      "Average Silver Medals per Athlete: 0.00\n",
      "Average Gold Medals per Athlete: 0.14\n",
      "Average Total Medals per Athlete: 0.14\n",
      "\n",
      "Average Bronze Medals per Athlete: 0.00\n",
      "Average Silver Medals per Athlete: 0.14\n",
      "Average Gold Medals per Athlete: 0.00\n",
      "Average Total Medals per Athlete: 0.14\n",
      "\n",
      "Average Bronze Medals per Athlete: 0.00\n",
      "Average Silver Medals per Athlete: 0.14\n",
      "Average Gold Medals per Athlete: 0.00\n",
      "Average Total Medals per Athlete: 0.14\n",
      "\n",
      "Average Bronze Medals per Athlete: 0.00\n",
      "Average Silver Medals per Athlete: 0.14\n",
      "Average Gold Medals per Athlete: 0.00\n",
      "Average Total Medals per Athlete: 0.14\n",
      "\n",
      "Average Bronze Medals per Athlete: 0.14\n",
      "Average Silver Medals per Athlete: 0.00\n",
      "Average Gold Medals per Athlete: 0.00\n",
      "Average Total Medals per Athlete: 0.14\n",
      "\n",
      "Average Bronze Medals per Athlete: 0.00\n",
      "Average Silver Medals per Athlete: 0.00\n",
      "Average Gold Medals per Athlete: 0.14\n",
      "Average Total Medals per Athlete: 0.14\n",
      "\n",
      "1. Add Data\n",
      "2. View Data\n",
      "3. View Medal Count by Country\n",
      "4. View Athlete Performance\n",
      "5. View Event Details\n",
      "6. View Statistics\n",
      "7. Exit\n"
     ]
    },
    {
     "name": "stdin",
     "output_type": "stream",
     "text": [
      "Enter your choice:  7\n"
     ]
    }
   ],
   "source": [
    "print(\"Olympic Data Analysis\")\n",
    "cName = input(\"Enter Country Name: \")\n",
    "olympicData = []\n",
    "\n",
    "# function 1: \n",
    "def addDetails():\n",
    "    print(f\"Enter the only {cName}an Country data:\")\n",
    "    record = int(input(\"Enter limit how many athletes' data you want to add: \"))\n",
    "    for i in range(record):\n",
    "        aName = input(f\"Enter the {i+1} athlete's name: \")\n",
    "        aEventName = input(f\"Enter {i+1} event name: \")\n",
    "        aEventYear = int(input(\"Enter the event year: \"))\n",
    "        aBronzeMedal = int(input(\"Enter how many Bronze medals he/she won: \"))\n",
    "        aSilverMedal = int(input(\"Enter how many Silver medals he/she won: \"))\n",
    "        aGoldMedal = int(input(\"Enter how many Gold medals he/she won: \"))\n",
    "        olympicData.append(\n",
    "            {\n",
    "                \"Name\": aName,\n",
    "                \"EventName\": aEventName,\n",
    "                \"EventYear\": aEventYear,\n",
    "                \"BronzeMedal\": aBronzeMedal,\n",
    "                \"SilverMedal\": aSilverMedal,\n",
    "                \"GoldMedal\": aGoldMedal\n",
    "            }\n",
    "        )\n",
    "\n",
    "#Function 2:\n",
    "def viewData():\n",
    "    header = f\"{'Name':<20}{'EventName':<20}{'EventYear':<20}{'BronzeMedal':<20}{'SilverMedal':<20}{'GoldMedal':<20}\"\n",
    "    print(header)\n",
    "    for data in olympicData:\n",
    "        row = f\"{data['Name']:<20}{data['EventName']:<20}{data['EventYear']:<20}{data['BronzeMedal']:<20}{data['SilverMedal']:<20}{data['GoldMedal']:<20}\"\n",
    "        print(row)\n",
    "\n",
    "#Function 3:\n",
    "def viewTotalMedals():\n",
    "    totalBronze = 0\n",
    "    totalSilver = 0\n",
    "    totalGold = 0\n",
    "    for data in olympicData:\n",
    "        # totalBronze = totalBronze + data['BronzeMedal']\n",
    "        totalBronze += data['BronzeMedal']\n",
    "        totalSilver += data['SilverMedal']\n",
    "        totalGold += data['GoldMedal']\n",
    "\n",
    "    grandTotal = sum([totalBronze,totalSilver,totalGold])\n",
    "\n",
    "    \n",
    "    print(f\"\\nTotal Medals for {cName}:\")\n",
    "    print(f\"Bronze Medals: {totalBronze}\")\n",
    "    print(f\"Silver Medals: {totalSilver}\")\n",
    "    print(f\"Gold Medals: {totalGold}\")\n",
    "    print(f\"Total Medals: {grandTotal}\\n\")\n",
    "    \n",
    "#Function 4:\n",
    "def viewAthletePerformance():\n",
    "    searchName = input(\"Enter the Athlete name: \")\n",
    "    found = False  \n",
    "    for data in olympicData:\n",
    "        if data['Name'].lower() == searchName.lower():    #Ujvl> ujvl      UJVL> ujvl \n",
    "            print(f\"\\nPerformance Statistics for {searchName}:\")\n",
    "            print(f\"Event: {data['EventName']}\")\n",
    "            print(f\"Year: {data['EventYear']}\")\n",
    "            print(f\"Bronze Medals: {data['BronzeMedal']}\")\n",
    "            print(f\"Silver Medals: {data['SilverMedal']}\")\n",
    "            print(f\"Gold Medals: {data['GoldMedal']}\\n\")\n",
    "            sum = (data['BronzeMedal'] + data['SilverMedal'] + data['GoldMedal'])\n",
    "            print(f\"Total medal by {searchName} {sum}\")\n",
    "            # def total():\n",
    "            #     for data in olympicData:\n",
    "            #         totalMedalByUser = BronzeMedal + SilverMedal + GoldMedal\n",
    "            #         print(f\"Total medal by {searchName} {totalMedalByUser}\")\n",
    "            found = True\n",
    "            break\n",
    "    if not found:\n",
    "        print(f\"No data found for athlete {searchName}.\\n\")\n",
    "\n",
    "#Function 5:\n",
    "def viewEventDetails():\n",
    "    eventName = input(\"Enter the Event name: \")\n",
    "    eventYear = int(input(\"Enter the Event year: \"))\n",
    "    found = False\n",
    "    print(f\"\\nDetails for Event: {eventName} ({eventYear})\")\n",
    "    header = f\"{'Athlete Name':<20}{'BronzeMedals':<15}{'SilverMedals':<15}{'GoldMedals':<15}\"\n",
    "    print(header)\n",
    "    for data in olympicData:\n",
    "        if data['EventName'].lower() == eventName.lower() and data['EventYear'] == eventYear:\n",
    "            row = f\"{data['Name']:<20}{data['BronzeMedal']:<15}{data['SilverMedal']:<15}{data['GoldMedal']:<15}\"\n",
    "            print(row)\n",
    "            found = True\n",
    "    if not found:\n",
    "        print(f\"No data found for event {eventName} in {eventYear}.\\n\")\n",
    "   \n",
    "\n",
    "#Function 6:\n",
    "def viewStatistics():\n",
    "    totalAthletes = len(olympicData)\n",
    "    if totalAthletes == 0:\n",
    "        print(\"No data available for statistics.\\n\")\n",
    "        return\n",
    "    print(\"\\nOlympic Statistics:\")\n",
    "    print(f\"Total Athletes: {totalAthletes}\")\n",
    "    for data in olympicData:\n",
    "        totalBronze = sum([data['BronzeMedal']])\n",
    "        totalSilver = sum([data['SilverMedal']])\n",
    "        totalGold = sum([data['GoldMedal']])\n",
    "        totalMedals = totalBronze + totalSilver + totalGold\n",
    "\n",
    "        avgBronze = totalBronze / totalAthletes\n",
    "        avgSilver = totalSilver / totalAthletes\n",
    "        avgGold = totalGold / totalAthletes\n",
    "        avgTotalMedals = totalMedals / totalAthletes\n",
    "\n",
    "        \n",
    "\n",
    "        print(f\"Average Bronze Medals per Athlete: {avgBronze:.2f}\")\n",
    "        print(f\"Average Silver Medals per Athlete: {avgSilver:.2f}\")\n",
    "        print(f\"Average Gold Medals per Athlete: {avgGold:.2f}\")\n",
    "        print(f\"Average Total Medals per Athlete: {avgTotalMedals:.2f}\\n\")\n",
    "    \n",
    "    \n",
    "\n",
    "while True:\n",
    "    print(\"1. Add Data\")\n",
    "    print(\"2. View Data\")\n",
    "    print(\"3. View Medal Count by Country\")\n",
    "    print(\"4. View Athlete Performance\")\n",
    "    print(\"5. View Event Details\")\n",
    "    print(\"6. View Statistics\")\n",
    "    print(\"7. Exit\")\n",
    "    choice = input(\"Enter your choice: \")\n",
    "    match choice:\n",
    "        case '1':\n",
    "            addDetails()\n",
    "        case '2':\n",
    "            viewData()\n",
    "        case '3':\n",
    "            viewTotalMedals()\n",
    "        case '4':\n",
    "            viewAthletePerformance()\n",
    "        case '5':\n",
    "            viewEventDetails()\n",
    "        case '6':\n",
    "            viewStatistics()\n",
    "        case '7':\n",
    "            exit()\n",
    "            break\n",
    "        case _:\n",
    "            print(\"You Entered Something Wrong, Try Again!\")\n",
    "            break\n"
   ]
  },
  {
   "cell_type": "code",
   "execution_count": null,
   "id": "f1c627e2-1b9d-4f26-8e24-b3cd367e131b",
   "metadata": {},
   "outputs": [],
   "source": []
  }
 ],
 "metadata": {
  "kernelspec": {
   "display_name": "Python 3 (ipykernel)",
   "language": "python",
   "name": "python3"
  },
  "language_info": {
   "codemirror_mode": {
    "name": "ipython",
    "version": 3
   },
   "file_extension": ".py",
   "mimetype": "text/x-python",
   "name": "python",
   "nbconvert_exporter": "python",
   "pygments_lexer": "ipython3",
   "version": "3.12.1"
  }
 },
 "nbformat": 4,
 "nbformat_minor": 5
}
