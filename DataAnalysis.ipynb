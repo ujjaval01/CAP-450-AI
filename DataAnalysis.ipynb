{
 "cells": [
  {
   "cell_type": "code",
   "execution_count": 25,
   "id": "fb5f9afd-6153-4865-9a50-b07938c68886",
   "metadata": {},
   "outputs": [
    {
     "name": "stdout",
     "output_type": "stream",
     "text": [
      "-----------------------------------HEAD------------------------------------------\n",
      "   region  age  marital  address  income   ed  retire  gender  reside  custcat\n",
      "0       2   35        1        9      64    4       0       0       2        1\n",
      "1       3   23        1        7     136  NaN       0       0       6        4\n",
      "2       3   52        1       24     116    1       0       1       2        3\n",
      "3       2   34        0       12      33    2       0       1       1        1\n",
      "4       2   30        1        9      30    1       0       0       4        3\n",
      "5       2   39        0       17      78    2       0       1       1        3\n",
      "6       3   23        1        2      19    2       0       1       5        2\n",
      "7       2   35        0        5      76    2       0       0       3        4\n",
      "8       3   59        1        7     166    ?       0       0       5        3\n",
      "9       1   41        1       21      72    1       0       0       3        2\n",
      "-----------------------------------TAIL------------------------------------------\n",
      "     region  age  marital  address  income ed  retire  gender  reside  custcat\n",
      "990       1   43        0        6      27  3       0       0       1        3\n",
      "991       2   50        1       16     190  2       0       1       2        2\n",
      "992       1   52        1        2     106  2       0       0       2        3\n",
      "993       3   54        1       30      26  3       0       1       2        4\n",
      "994       1   46        1       17      63  5       0       0       2        4\n",
      "995       3   39        0        0      27  3       0       1       3        1\n",
      "996       1   34        0        2      22  5       0       1       1        1\n",
      "997       3   59        0       40     944  5       0       1       1        4\n",
      "998       3   49        0       18      87  2       0       1       1        3\n",
      "999       3   36        1        7      39  3       0       1       3        2\n",
      "--------------------------------------------------------------------------------\n",
      "     age   ed\n",
      "0     35    4\n",
      "1     23  NaN\n",
      "2     52    1\n",
      "3     34    2\n",
      "4     30    1\n",
      "..   ...  ...\n",
      "995   39    3\n",
      "996   34    5\n",
      "997   59    5\n",
      "998   49    2\n",
      "999   36    3\n",
      "\n",
      "[1000 rows x 2 columns]\n",
      "------------------------------------DESCRIBE---------------------------------------\n",
      "          region          age      marital      address       income  \\\n",
      "count  1000.0000  1000.000000  1000.000000  1000.000000  1000.000000   \n",
      "mean      2.0220    41.645000     0.495000    11.551000    77.535000   \n",
      "std       0.8162    12.581545     0.500225    10.086681   107.044165   \n",
      "min       1.0000    18.000000     0.000000     0.000000     9.000000   \n",
      "25%       1.0000    32.000000     0.000000     3.000000    29.000000   \n",
      "50%       2.0000    40.000000     0.000000     9.000000    47.000000   \n",
      "75%       3.0000    51.000000     1.000000    18.000000    83.000000   \n",
      "max       3.0000    77.000000     1.000000    55.000000  1668.000000   \n",
      "\n",
      "            retire       gender       reside      custcat  \n",
      "count  1000.000000  1000.000000  1000.000000  1000.000000  \n",
      "mean      0.047000     0.517000     2.331000     2.487000  \n",
      "std       0.211745     0.499961     1.435793     1.120306  \n",
      "min       0.000000     0.000000     1.000000     1.000000  \n",
      "25%       0.000000     0.000000     1.000000     1.000000  \n",
      "50%       0.000000     1.000000     2.000000     3.000000  \n",
      "75%       0.000000     1.000000     3.000000     3.000000  \n",
      "max       1.000000     1.000000     8.000000     4.000000  \n"
     ]
    }
   ],
   "source": [
    "import pandas as pd\n",
    "telecust = pd.read_csv('telecust1.csv')\n",
    "path = 'telecust1.csv'\n",
    "df = pd.read_csv(path)\n",
    "#print(df)\n",
    "print('-----------------------------------HEAD------------------------------------------')\n",
    "print(df.head(10))\n",
    "print('-----------------------------------TAIL------------------------------------------')\n",
    "print(df.tail(10))\n",
    "print('--------------------------------------------------------------------------------')\n",
    "print(df[['age','ed']])\n",
    "print('------------------------------------DESCRIBE---------------------------------------')\n",
    "print(df.describe())"
   ]
  },
  {
   "cell_type": "code",
   "execution_count": 26,
   "id": "655d6ae1-1a86-4d8b-8f75-4af4f86d1b7d",
   "metadata": {},
   "outputs": [
    {
     "data": {
      "text/plain": [
       "region     0\n",
       "age        0\n",
       "marital    0\n",
       "address    0\n",
       "income     0\n",
       "ed         1\n",
       "retire     0\n",
       "gender     0\n",
       "reside     0\n",
       "custcat    0\n",
       "dtype: int64"
      ]
     },
     "execution_count": 26,
     "metadata": {},
     "output_type": "execute_result"
    }
   ],
   "source": [
    "df.isnull().sum()"
   ]
  },
  {
   "cell_type": "code",
   "execution_count": null,
   "id": "94eed15a-9148-46f9-878c-5ee22bdf772c",
   "metadata": {},
   "outputs": [],
   "source": []
  },
  {
   "cell_type": "code",
   "execution_count": null,
   "id": "1f0d7672-169f-4f23-a839-82b14b4ea092",
   "metadata": {},
   "outputs": [],
   "source": []
  }
 ],
 "metadata": {
  "kernelspec": {
   "display_name": "Python 3 (ipykernel)",
   "language": "python",
   "name": "python3"
  },
  "language_info": {
   "codemirror_mode": {
    "name": "ipython",
    "version": 3
   },
   "file_extension": ".py",
   "mimetype": "text/x-python",
   "name": "python",
   "nbconvert_exporter": "python",
   "pygments_lexer": "ipython3",
   "version": "3.12.1"
  }
 },
 "nbformat": 4,
 "nbformat_minor": 5
}
